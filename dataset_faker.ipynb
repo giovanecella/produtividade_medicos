{
  "nbformat": 4,
  "nbformat_minor": 0,
  "metadata": {
    "colab": {
      "provenance": [],
      "toc_visible": true,
      "authorship_tag": "ABX9TyNQnC6jjzbHm9abcB+Wo+xj"
    },
    "kernelspec": {
      "name": "python3",
      "display_name": "Python 3"
    },
    "language_info": {
      "name": "python"
    }
  },
  "cells": [
    {
      "cell_type": "code",
      "execution_count": 1,
      "metadata": {
        "colab": {
          "base_uri": "https://localhost:8080/"
        },
        "id": "bJPHm-ntOvm0",
        "outputId": "18e06fce-d070-4ce1-ff68-bdb25ac96b65"
      },
      "outputs": [
        {
          "output_type": "stream",
          "name": "stdout",
          "text": [
            "Collecting Faker\n",
            "  Downloading Faker-25.8.0-py3-none-any.whl (1.8 MB)\n",
            "\u001b[2K     \u001b[90m━━━━━━━━━━━━━━━━━━━━━━━━━━━━━━━━━━━━━━━━\u001b[0m \u001b[32m1.8/1.8 MB\u001b[0m \u001b[31m9.0 MB/s\u001b[0m eta \u001b[36m0:00:00\u001b[0m\n",
            "\u001b[?25hRequirement already satisfied: python-dateutil>=2.4 in /usr/local/lib/python3.10/dist-packages (from Faker) (2.8.2)\n",
            "Requirement already satisfied: six>=1.5 in /usr/local/lib/python3.10/dist-packages (from python-dateutil>=2.4->Faker) (1.16.0)\n",
            "Installing collected packages: Faker\n",
            "Successfully installed Faker-25.8.0\n"
          ]
        }
      ],
      "source": [
        "!pip install Faker"
      ]
    },
    {
      "cell_type": "code",
      "source": [
        "import pandas as pd\n",
        "from faker import Faker\n",
        "\n",
        "fake = Faker('pt_BR')\n",
        "\n",
        "dmedicos = []\n",
        "\n",
        "for i in range(50):\n",
        "  medico = {\n",
        "      'Id': i+1,\n",
        "      'Nome': fake.name(),\n",
        "      'Estabelecimento': fake.random_element(elements=('Clínica A', 'Centro B', 'Clínica C', 'Clínica D', 'Centro E'))\n",
        "  }\n",
        "  dmedicos.append(medico)\n",
        "\n",
        "print(dmedicos)"
      ],
      "metadata": {
        "colab": {
          "base_uri": "https://localhost:8080/"
        },
        "id": "RNNTghvTO11y",
        "outputId": "6a96f844-f68a-4b5c-d1b9-8abad89b8997"
      },
      "execution_count": 5,
      "outputs": [
        {
          "output_type": "stream",
          "name": "stdout",
          "text": [
            "[{'Id': 1, 'Nome': 'Dra. Manuela Dias', 'Estabelecimento': 'Clínica A'}, {'Id': 2, 'Nome': 'Pedro Jesus', 'Estabelecimento': 'Clínica C'}, {'Id': 3, 'Nome': 'Aurora Rocha', 'Estabelecimento': 'Clínica D'}, {'Id': 4, 'Nome': 'Alexandre Siqueira', 'Estabelecimento': 'Centro B'}, {'Id': 5, 'Nome': 'Sarah Porto', 'Estabelecimento': 'Clínica C'}, {'Id': 6, 'Nome': 'Sra. Ana Júlia Oliveira', 'Estabelecimento': 'Clínica C'}, {'Id': 7, 'Nome': 'Pietra Sousa', 'Estabelecimento': 'Centro B'}, {'Id': 8, 'Nome': 'Ana Sophia Nascimento', 'Estabelecimento': 'Clínica A'}, {'Id': 9, 'Nome': 'Larissa Moraes', 'Estabelecimento': 'Clínica D'}, {'Id': 10, 'Nome': 'Ester Moraes', 'Estabelecimento': 'Clínica A'}, {'Id': 11, 'Nome': 'Maria Eduarda Casa Grande', 'Estabelecimento': 'Clínica A'}, {'Id': 12, 'Nome': 'Otávio Moreira', 'Estabelecimento': 'Centro E'}, {'Id': 13, 'Nome': 'Raul Barros', 'Estabelecimento': 'Clínica C'}, {'Id': 14, 'Nome': 'Sr. Kaique Garcia', 'Estabelecimento': 'Centro E'}, {'Id': 15, 'Nome': 'Luiza da Mata', 'Estabelecimento': 'Centro B'}, {'Id': 16, 'Nome': 'Maitê Carvalho', 'Estabelecimento': 'Centro E'}, {'Id': 17, 'Nome': 'Dante Porto', 'Estabelecimento': 'Clínica D'}, {'Id': 18, 'Nome': 'Hadassa Rocha', 'Estabelecimento': 'Clínica A'}, {'Id': 19, 'Nome': 'Rael Aragão', 'Estabelecimento': 'Clínica C'}, {'Id': 20, 'Nome': 'Isabel Fonseca', 'Estabelecimento': 'Centro B'}, {'Id': 21, 'Nome': 'Daniela Casa Grande', 'Estabelecimento': 'Centro B'}, {'Id': 22, 'Nome': 'Cecilia Novais', 'Estabelecimento': 'Clínica C'}, {'Id': 23, 'Nome': 'Danilo Ferreira', 'Estabelecimento': 'Clínica D'}, {'Id': 24, 'Nome': 'Vitor Hugo Castro', 'Estabelecimento': 'Clínica C'}, {'Id': 25, 'Nome': 'Thomas Moraes', 'Estabelecimento': 'Centro E'}, {'Id': 26, 'Nome': 'Clarice Silveira', 'Estabelecimento': 'Clínica C'}, {'Id': 27, 'Nome': 'Caroline Sousa', 'Estabelecimento': 'Centro E'}, {'Id': 28, 'Nome': 'Dr. Diego Macedo', 'Estabelecimento': 'Clínica D'}, {'Id': 29, 'Nome': 'Juan Cassiano', 'Estabelecimento': 'Clínica D'}, {'Id': 30, 'Nome': 'Evelyn Pereira', 'Estabelecimento': 'Centro E'}, {'Id': 31, 'Nome': 'José Ribeiro', 'Estabelecimento': 'Clínica D'}, {'Id': 32, 'Nome': 'Bento Porto', 'Estabelecimento': 'Clínica D'}, {'Id': 33, 'Nome': 'Matteo Barbosa', 'Estabelecimento': 'Clínica D'}, {'Id': 34, 'Nome': 'Heitor Leão', 'Estabelecimento': 'Clínica C'}, {'Id': 35, 'Nome': 'Dr. Felipe Ramos', 'Estabelecimento': 'Centro E'}, {'Id': 36, 'Nome': 'Srta. Sophia da Mata', 'Estabelecimento': 'Clínica C'}, {'Id': 37, 'Nome': 'Larissa Andrade', 'Estabelecimento': 'Centro E'}, {'Id': 38, 'Nome': 'Gabriel Rezende', 'Estabelecimento': 'Clínica A'}, {'Id': 39, 'Nome': 'Pietra Carvalho', 'Estabelecimento': 'Clínica C'}, {'Id': 40, 'Nome': 'Sr. Noah Macedo', 'Estabelecimento': 'Clínica A'}, {'Id': 41, 'Nome': 'João Guilherme Moura', 'Estabelecimento': 'Clínica A'}, {'Id': 42, 'Nome': 'Gabrielly Melo', 'Estabelecimento': 'Centro B'}, {'Id': 43, 'Nome': 'Caroline Dias', 'Estabelecimento': 'Centro E'}, {'Id': 44, 'Nome': 'Maria Oliveira', 'Estabelecimento': 'Centro E'}, {'Id': 45, 'Nome': 'Nicole da Cunha', 'Estabelecimento': 'Centro B'}, {'Id': 46, 'Nome': 'Catarina Silveira', 'Estabelecimento': 'Clínica C'}, {'Id': 47, 'Nome': 'Vitor Hugo Moraes', 'Estabelecimento': 'Clínica C'}, {'Id': 48, 'Nome': 'Ana Luiza Novais', 'Estabelecimento': 'Centro B'}, {'Id': 49, 'Nome': 'Ana Laura Pimenta', 'Estabelecimento': 'Centro B'}, {'Id': 50, 'Nome': 'Yago Souza', 'Estabelecimento': 'Clínica C'}]\n"
          ]
        }
      ]
    },
    {
      "cell_type": "code",
      "source": [
        "df = pd.DataFrame(dmedicos)\n",
        "df.to_csv('dmedicos.csv', index=False)"
      ],
      "metadata": {
        "id": "ssdlGWS6V33V"
      },
      "execution_count": 6,
      "outputs": []
    },
    {
      "cell_type": "code",
      "source": [
        "from datetime import date\n",
        "from collections import OrderedDict\n",
        "fproducao = []\n",
        "\n",
        "for i in range(200000):\n",
        "  prod = {\n",
        "      'Id': i+1,\n",
        "      'Id_médico': fake.random_int(min=1, max=50),\n",
        "      'Procedimento': fake.random_element(elements=OrderedDict([(\"Consulta\", 0.3), (\"Fisioterapia\", 0.4), (\"Raio-X\", 0.2), (\"USG\", 0.1), ])),\n",
        "      'Valor': fake.randomize_nb_elements(number=300),\n",
        "      'Data': fake.date_between_dates(date_start=date.fromisoformat('2023-01-01'), date_end=date.fromisoformat('2023-12-31'))\n",
        "  }\n",
        "  fproducao.append(prod)\n",
        "\n",
        "df2= pd.DataFrame(fproducao)\n",
        "df2.to_csv('fproducao.csv', index=False)"
      ],
      "metadata": {
        "id": "P_CElbXPWkMT"
      },
      "execution_count": 12,
      "outputs": []
    }
  ]
}